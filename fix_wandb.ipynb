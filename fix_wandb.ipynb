{
 "cells": [
  {
   "cell_type": "code",
   "execution_count": 4,
   "metadata": {},
   "outputs": [],
   "source": [
    "import wandb\n"
   ]
  },
  {
   "cell_type": "code",
   "execution_count": 5,
   "metadata": {},
   "outputs": [],
   "source": [
    "api = wandb.Api()\n",
    "runs = api.runs(\"natkaha/pollen-retinanet\")"
   ]
  },
  {
   "cell_type": "code",
   "execution_count": 6,
   "metadata": {},
   "outputs": [],
   "source": [
    "for r in runs:\n",
    "    h = r.history()\n",
    "    r.summary['best_wmAP'] = h['wmAP'].max()\n",
    "    r.summary['best_mAP'] = h['mAP'].max()\n",
    "    r.update()"
   ]
  }
 ],
 "metadata": {
  "kernelspec": {
   "display_name": "env-tf23",
   "language": "python",
   "name": "python3"
  },
  "language_info": {
   "codemirror_mode": {
    "name": "ipython",
    "version": 3
   },
   "file_extension": ".py",
   "mimetype": "text/x-python",
   "name": "python",
   "nbconvert_exporter": "python",
   "pygments_lexer": "ipython3",
   "version": "3.7.10"
  },
  "orig_nbformat": 4,
  "vscode": {
   "interpreter": {
    "hash": "cbb32114019147325a96b1f8b81828705932521c91d933d9d7a4fd3dd7ba2a4f"
   }
  }
 },
 "nbformat": 4,
 "nbformat_minor": 2
}
